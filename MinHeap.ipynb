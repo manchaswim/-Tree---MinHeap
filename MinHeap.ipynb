{
 "cells": [
  {
   "cell_type": "code",
   "execution_count": 43,
   "metadata": {},
   "outputs": [],
   "source": [
    "from math import floor\n",
    "class MinHeap:\n",
    "    \n",
    "    datos=[]\n",
    "    cont=0\n",
    "    \n",
    "    def _init_(self):\n",
    "        self.datos=[]\n",
    "        self.cont=0\n",
    "    \n",
    "    def inserta(self, n):\n",
    "        if len(self.datos)==0:\n",
    "            self.datos=[\"tree:\"]\n",
    "        termine=False\n",
    "        self.datos=self.datos+[n]\n",
    "        self.cont+=1\n",
    "        actual=self.cont\n",
    "        while (not actual == 1) and (not termine):\n",
    "            if self.datos[actual]<self.datos[floor(actual/2)]:\n",
    "                temp=self.datos[actual]\n",
    "                self.datos[actual]=self.datos[floor(actual/2)]\n",
    "                self.datos[floor(actual/2)]=temp\n",
    "                actual=floor(actual/2)\n",
    "            else:\n",
    "                termine=True\n",
    "                \n",
    "    def buscaMin(self):\n",
    "        if(self.cont>0):\n",
    "            res = self.datos[1]\n",
    "            return res\n",
    "        else:\n",
    "            print (\"Árbol vacío\")\n",
    "            \n",
    "    def borraMin(self):\n",
    "        if(self.cont>0):\n",
    "            flag=True\n",
    "            eliminado=self.datos[1]\n",
    "            self.datos[1]=self.datos[self.cont]\n",
    "            del self.datos[self.cont]\n",
    "            self.cont-=1;\n",
    "            actual=1\n",
    "            while (actual<=self.cont) and (flag):\n",
    "                pos=self.posMin(actual*2,(actual*2)+1)\n",
    "                if pos>0:\n",
    "                    if self.datos[actual]>self.datos[pos]:\n",
    "                        temp=self.datos[actual]\n",
    "                        self.datos[actual]=self.datos[pos]\n",
    "                        self.datos[pos]=temp\n",
    "                        actual=pos;\n",
    "                    else:\n",
    "                        flag= not flag\n",
    "                else:\n",
    "                    flag = not flag\n",
    "            return eliminado\n",
    "        else:\n",
    "            print(\"Árbol vacío\")\n",
    "            \n",
    "    def posMin(self, izq, der):\n",
    "        if (izq>self.cont) and (der>self.cont):\n",
    "            res=-1\n",
    "        elif (der>self.cont):\n",
    "            res=izq\n",
    "        elif self.datos[izq]>self.datos[der]:\n",
    "            res=der\n",
    "        else:\n",
    "            res=izq\n",
    "        return res\n",
    "                \n",
    "    def toString(self):\n",
    "        s=\"\"\n",
    "        for i in self.datos:\n",
    "            s+=str(i)+\" \"\n",
    "        return s"
   ]
  },
  {
   "cell_type": "code",
   "execution_count": 44,
   "metadata": {},
   "outputs": [],
   "source": [
    "arbol=MinHeap()"
   ]
  },
  {
   "cell_type": "code",
   "execution_count": 45,
   "metadata": {},
   "outputs": [],
   "source": [
    "arbol.inserta(3)\n",
    "arbol.inserta(33)\n",
    "arbol.inserta(0)\n",
    "arbol.inserta(90)\n",
    "arbol.inserta(89)\n",
    "arbol.inserta(14)"
   ]
  },
  {
   "cell_type": "code",
   "execution_count": null,
   "metadata": {},
   "outputs": [],
   "source": []
  },
  {
   "cell_type": "code",
   "execution_count": 46,
   "metadata": {},
   "outputs": [
    {
     "data": {
      "text/plain": [
       "'tree: 0 33 3 90 89 14 '"
      ]
     },
     "execution_count": 46,
     "metadata": {},
     "output_type": "execute_result"
    }
   ],
   "source": [
    "arbol.toString()"
   ]
  },
  {
   "cell_type": "code",
   "execution_count": 47,
   "metadata": {},
   "outputs": [
    {
     "data": {
      "text/plain": [
       "0"
      ]
     },
     "execution_count": 47,
     "metadata": {},
     "output_type": "execute_result"
    }
   ],
   "source": [
    "arbol.buscaMin()"
   ]
  },
  {
   "cell_type": "code",
   "execution_count": 48,
   "metadata": {},
   "outputs": [
    {
     "data": {
      "text/plain": [
       "0"
      ]
     },
     "execution_count": 48,
     "metadata": {},
     "output_type": "execute_result"
    }
   ],
   "source": [
    "arbol.borraMin()"
   ]
  },
  {
   "cell_type": "code",
   "execution_count": 49,
   "metadata": {},
   "outputs": [
    {
     "data": {
      "text/plain": [
       "'tree: 3 33 14 90 89 '"
      ]
     },
     "execution_count": 49,
     "metadata": {},
     "output_type": "execute_result"
    }
   ],
   "source": [
    "arbol.toString()"
   ]
  },
  {
   "cell_type": "code",
   "execution_count": null,
   "metadata": {},
   "outputs": [],
   "source": []
  }
 ],
 "metadata": {
  "kernelspec": {
   "display_name": "Python 3",
   "language": "python",
   "name": "python3"
  },
  "language_info": {
   "codemirror_mode": {
    "name": "ipython",
    "version": 3
   },
   "file_extension": ".py",
   "mimetype": "text/x-python",
   "name": "python",
   "nbconvert_exporter": "python",
   "pygments_lexer": "ipython3",
   "version": "3.6.2"
  }
 },
 "nbformat": 4,
 "nbformat_minor": 2
}
